{
  "cells": [
    {
      "cell_type": "markdown",
      "metadata": {
        "id": "view-in-github",
        "colab_type": "text"
      },
      "source": [
        "<a href=\"https://colab.research.google.com/github/MinaAlberDS/Codveda-Internship/blob/master/Web_scrapping.ipynb\" target=\"_parent\"><img src=\"https://colab.research.google.com/assets/colab-badge.svg\" alt=\"Open In Colab\"/></a>"
      ]
    },
    {
      "cell_type": "markdown",
      "source": [
        "# Scrapping, and collecting the data\n",
        "\n",
        "### Collecting the houses links"
      ],
      "metadata": {
        "id": "5ARcPIzzPDo2"
      },
      "id": "5ARcPIzzPDo2"
    },
    {
      "cell_type": "code",
      "execution_count": null,
      "id": "b8ac384d",
      "metadata": {
        "id": "b8ac384d"
      },
      "outputs": [],
      "source": [
        "# Import the needed libraries\n",
        "import requests\n",
        "from bs4 import BeautifulSoup\n",
        "import time\n",
        "import numpy as np\n",
        "\n",
        "# Make the function which will get the houses links\n",
        "def houses_links(pages, verbose):\n",
        "    \"\"\"\n",
        "    Scrapes real estate listing links from realestate.gov.eg.\n",
        "\n",
        "    Args:\n",
        "        pages: An integer representing the number of pages to scrape.\n",
        "        verbose: A boolean indicating whether to print the progress of scraping each page.\n",
        "\n",
        "    Returns:\n",
        "        A list of strings, where each string is a URL to a real estate listing.\n",
        "    \"\"\"\n",
        "    base_url = r\"https://realestate.gov.eg/properties?page={}\" # Base url template\n",
        "\n",
        "    links = [] # links list\n",
        "    for page in range(1,pages+1): # This for loop to get the 9 houses links in each page\n",
        "        start_time = time.perf_counter() # start a stop watch for each page\n",
        "        page_url = base_url.format(page) # Set the page url from the baseline url using f-string or format\n",
        "        response = requests.get(page_url) # Get the response of the page url\n",
        "        if response.status_code == 200: # check if the page can be scrapped or not\n",
        "          soop = BeautifulSoup(response.content, \"html.parser\") # set the soop variable to scrape the links from the page html\n",
        "          houses = soop.find_all(\"div\", class_=\"col-md-4\")[3:] # get the houses links\n",
        "\n",
        "          for house in houses: # Add the houses links to the links list\n",
        "              link = r\"https://realestate.gov.eg\" + house.find(\"a\")[\"href\"] # Set the house url\n",
        "              links.append(link) # add it to the links list\n",
        "          end_time = time.perf_counter() # stop the timer\n",
        "          elapsed = end_time - start_time # count the elapsed time\n",
        "          if verbose: # if the verbose is true, it will show some useful information about each page\n",
        "              print(f\"Page: {page} links have been appended in {elapsed:.4f}s\")\n",
        "        else: # if the page cannot be scraped\n",
        "          print(f\"failed to scrape this Page: {page} with code: {response.status_code}\")\n",
        "    return links # finally retrun the links list"
      ]
    },
    {
      "cell_type": "code",
      "execution_count": null,
      "id": "8d463b0f",
      "metadata": {
        "colab": {
          "base_uri": "https://localhost:8080/"
        },
        "id": "8d463b0f",
        "outputId": "1a091d0f-16d0-4c63-aadb-e312de017321"
      },
      "outputs": [
        {
          "output_type": "stream",
          "name": "stdout",
          "text": [
            "Page: https://realestate.gov.eg/properties?page=1 links have been appended in 1.4963s\n",
            "Page: https://realestate.gov.eg/properties?page=2 links have been appended in 1.6024s\n",
            "Page: https://realestate.gov.eg/properties?page=3 links have been appended in 1.3798s\n",
            "Page: https://realestate.gov.eg/properties?page=4 links have been appended in 1.3941s\n",
            "Page: https://realestate.gov.eg/properties?page=5 links have been appended in 1.2867s\n",
            "Page: https://realestate.gov.eg/properties?page=6 links have been appended in 1.4166s\n",
            "Page: https://realestate.gov.eg/properties?page=7 links have been appended in 1.2617s\n",
            "Page: https://realestate.gov.eg/properties?page=8 links have been appended in 1.2477s\n",
            "Page: https://realestate.gov.eg/properties?page=9 links have been appended in 1.9099s\n",
            "Page: https://realestate.gov.eg/properties?page=10 links have been appended in 1.2873s\n",
            "Page: https://realestate.gov.eg/properties?page=11 links have been appended in 1.2978s\n",
            "Page: https://realestate.gov.eg/properties?page=12 links have been appended in 1.3696s\n",
            "Page: https://realestate.gov.eg/properties?page=13 links have been appended in 1.3586s\n",
            "Page: https://realestate.gov.eg/properties?page=14 links have been appended in 1.5424s\n",
            "Page: https://realestate.gov.eg/properties?page=15 links have been appended in 1.2871s\n",
            "Page: https://realestate.gov.eg/properties?page=16 links have been appended in 1.8006s\n",
            "Page: https://realestate.gov.eg/properties?page=17 links have been appended in 1.9448s\n",
            "Page: https://realestate.gov.eg/properties?page=18 links have been appended in 1.2864s\n",
            "Page: https://realestate.gov.eg/properties?page=19 links have been appended in 1.2157s\n",
            "Page: https://realestate.gov.eg/properties?page=20 links have been appended in 1.3415s\n",
            "Page: https://realestate.gov.eg/properties?page=21 links have been appended in 1.1727s\n",
            "Page: https://realestate.gov.eg/properties?page=22 links have been appended in 1.3361s\n",
            "Page: https://realestate.gov.eg/properties?page=23 links have been appended in 1.3884s\n",
            "Page: https://realestate.gov.eg/properties?page=24 links have been appended in 1.3581s\n",
            "Page: https://realestate.gov.eg/properties?page=25 links have been appended in 1.5684s\n",
            "Page: https://realestate.gov.eg/properties?page=26 links have been appended in 1.3344s\n",
            "Page: https://realestate.gov.eg/properties?page=27 links have been appended in 1.2542s\n",
            "Page: https://realestate.gov.eg/properties?page=28 links have been appended in 1.2436s\n",
            "Page: https://realestate.gov.eg/properties?page=29 links have been appended in 1.3366s\n",
            "Page: https://realestate.gov.eg/properties?page=30 links have been appended in 1.4656s\n",
            "Page: https://realestate.gov.eg/properties?page=31 links have been appended in 1.3535s\n",
            "Page: https://realestate.gov.eg/properties?page=32 links have been appended in 1.3504s\n",
            "Page: https://realestate.gov.eg/properties?page=33 links have been appended in 1.2574s\n",
            "Page: https://realestate.gov.eg/properties?page=34 links have been appended in 1.2871s\n",
            "Page: https://realestate.gov.eg/properties?page=35 links have been appended in 1.4124s\n",
            "Page: https://realestate.gov.eg/properties?page=36 links have been appended in 1.2334s\n",
            "Page: https://realestate.gov.eg/properties?page=37 links have been appended in 1.2065s\n",
            "Page: https://realestate.gov.eg/properties?page=38 links have been appended in 1.3771s\n",
            "Page: https://realestate.gov.eg/properties?page=39 links have been appended in 1.5391s\n",
            "Page: https://realestate.gov.eg/properties?page=40 links have been appended in 1.3965s\n",
            "Page: https://realestate.gov.eg/properties?page=41 links have been appended in 1.4257s\n",
            "Page: https://realestate.gov.eg/properties?page=42 links have been appended in 1.2710s\n",
            "Page: https://realestate.gov.eg/properties?page=43 links have been appended in 1.3732s\n",
            "Page: https://realestate.gov.eg/properties?page=44 links have been appended in 1.5495s\n",
            "Page: https://realestate.gov.eg/properties?page=45 links have been appended in 1.3312s\n",
            "Page: https://realestate.gov.eg/properties?page=46 links have been appended in 1.3902s\n",
            "Page: https://realestate.gov.eg/properties?page=47 links have been appended in 1.3959s\n",
            "Page: https://realestate.gov.eg/properties?page=48 links have been appended in 1.2526s\n",
            "Page: https://realestate.gov.eg/properties?page=49 links have been appended in 1.4894s\n",
            "Page: https://realestate.gov.eg/properties?page=50 links have been appended in 1.2503s\n",
            "Page: https://realestate.gov.eg/properties?page=51 links have been appended in 1.3757s\n",
            "Page: https://realestate.gov.eg/properties?page=52 links have been appended in 1.3334s\n",
            "Page: https://realestate.gov.eg/properties?page=53 links have been appended in 1.2667s\n",
            "Page: https://realestate.gov.eg/properties?page=54 links have been appended in 1.3445s\n",
            "Page: https://realestate.gov.eg/properties?page=55 links have been appended in 1.3603s\n",
            "Page: https://realestate.gov.eg/properties?page=56 links have been appended in 1.5882s\n",
            "Avg. Elapsed process time: 1.3857\n"
          ]
        }
      ],
      "source": [
        "links = houses_links(56, True) # running our function with 56 pages, and verbose = True"
      ]
    },
    {
      "cell_type": "code",
      "execution_count": null,
      "id": "c9882225",
      "metadata": {
        "colab": {
          "base_uri": "https://localhost:8080/"
        },
        "id": "c9882225",
        "outputId": "8eb72679-57d5-405f-affe-9adce8988b74"
      },
      "outputs": [
        {
          "output_type": "execute_result",
          "data": {
            "text/plain": [
              "504"
            ]
          },
          "metadata": {},
          "execution_count": 3
        }
      ],
      "source": [
        "len(links)"
      ]
    },
    {
      "cell_type": "markdown",
      "source": [
        "We have 504 house to scrape"
      ],
      "metadata": {
        "id": "BIUTl5r7SZph"
      },
      "id": "BIUTl5r7SZph"
    },
    {
      "cell_type": "code",
      "execution_count": null,
      "id": "aebbf1cb",
      "metadata": {
        "id": "aebbf1cb"
      },
      "outputs": [],
      "source": [
        "import json\n",
        "# export the houses links to a json file\n",
        "with open(\"Links.json\", \"w\") as links_json:\n",
        "    json.dump(links, links_json, indent =4)"
      ]
    },
    {
      "cell_type": "code",
      "execution_count": null,
      "id": "4e7e5558",
      "metadata": {
        "id": "4e7e5558",
        "colab": {
          "base_uri": "https://localhost:8080/"
        },
        "outputId": "84d9637b-c513-4920-feb2-1eed6ae25735"
      },
      "outputs": [
        {
          "output_type": "execute_result",
          "data": {
            "text/plain": [
              "['https://realestate.gov.eg/property-details/podia/cairo/cairo/floor-ground-floor-unit-mpr-0054-bin-zayednorth-podia-cairo-cairo-egypt/E109850',\n",
              " 'https://realestate.gov.eg/property-details/new-garden-city/new-administrative-capital/cairo/building-g722-floor-4th-floor-unit-g72248-new-garden-city-new-administrative-capital-cairo-cairo-egypt/E111406',\n",
              " 'https://realestate.gov.eg/property-details/mazarine-apartment/north-coast/matrouh/building-mztf38-floor-1-unit-mztf3822-mazarine-apartment-north-coast-matrouh-egypt/E377760',\n",
              " 'https://realestate.gov.eg/property-details/alamain-(latin-district)/north-coast/alexandria/building-a13-floor-1-unit-z05-cl12-a13-m7-s2-01-03-alamain-(latin-district)-north-coast-alexandria-egypt/E104533',\n",
              " 'https://realestate.gov.eg/property-details/mazarine-apartment/north-coast/matrouh/building-mzcs22-floor-ground-floor-unit-mzcs2211-mazarine-apartment-north-coast-matrouh-egypt/E377256']"
            ]
          },
          "metadata": {},
          "execution_count": 5
        }
      ],
      "source": [
        "# import the json file links to scrap them\n",
        "with open(\"Links.json\", \"r\") as links_json:\n",
        "  links = json.load(links_json)\n",
        "# show the results\n",
        "links[:5]"
      ]
    },
    {
      "cell_type": "markdown",
      "source": [
        "### Collect the houses data"
      ],
      "metadata": {
        "id": "wVEoGji2TzER"
      },
      "id": "wVEoGji2TzER"
    },
    {
      "cell_type": "code",
      "source": [
        "def collect_house_data(houses_links):\n",
        "    # Initialize a dictionary to store data for all houses\n",
        "    all_houses_data = {\n",
        "        'name': [],\n",
        "        'price': [],\n",
        "        'property_type': [],\n",
        "        'bedrooms': [],\n",
        "        'bathrooms': [],\n",
        "        'sqm': [],\n",
        "        'year_built': [],\n",
        "        'features': [],\n",
        "        'city': [],\n",
        "        'governorate': [],\n",
        "        'address': [],\n",
        "        'description': []\n",
        "    }\n",
        "\n",
        "    for house_link in houses_links: # get the data from each house\n",
        "        try:\n",
        "            house_response = requests.get(house_link) # Get the request of the house link\n",
        "            house_soop = BeautifulSoup(house_response.content, \"html.parser\") # make the house soop\n",
        "\n",
        "            # Extract data, handling potential missing elements\n",
        "            name = house_soop.find(\"h6\", class_= \"propertyInfo_name__bs0i7\")\n",
        "            all_houses_data['name'].append(name.get_text(strip=True) if name else None)\n",
        "\n",
        "            price = house_soop.find(\"p\", class_ = \"propertyInfo_price__8ecPp\")\n",
        "            all_houses_data['price'].append(price.text.strip() if price else None)\n",
        "\n",
        "            house_div = house_soop.find_all(\"div\", class_= \"propertySpecs_spec_box__xLU5D\")\n",
        "            if len(house_div) > 0:\n",
        "                property_type = house_div[0].find(\"span\")\n",
        "                all_houses_data['property_type'].append(property_type.text.strip() if property_type else None)\n",
        "\n",
        "                # Extract bedroom, bathroom, sqm, and year built if available\n",
        "                if len(house_div[1].find_all(\"span\")) > 3:\n",
        "                    bedroom = house_div[1].find_all(\"span\")[1]\n",
        "                    all_houses_data['bedrooms'].append(bedroom.text.strip() if bedroom else None)\n",
        "\n",
        "                    bathroom = house_div[1].find_all(\"span\")[2]\n",
        "                    all_houses_data['bathrooms'].append(bathroom.text.strip() if bathroom else None)\n",
        "\n",
        "                    sqm = house_div[1].find_all(\"span\")[3]\n",
        "                    all_houses_data['sqm'].append(sqm.text.strip() if sqm else None)\n",
        "\n",
        "                    year_built = house_div[1].find_all(\"span\")[4]\n",
        "                    all_houses_data['year_built'].append(year_built.text.strip() if year_built else None)\n",
        "                else:\n",
        "                    # Append None if these details are not found\n",
        "                    all_houses_data['bedrooms'].append(None)\n",
        "                    all_houses_data['bathrooms'].append(None)\n",
        "                    all_houses_data['sqm'].append(None)\n",
        "                    all_houses_data['year_built'].append(None)\n",
        "            else:\n",
        "                # Append None for property type and other specs if the main div is not found\n",
        "                all_houses_data['property_type'].append(None)\n",
        "                all_houses_data['bedrooms'].append(None)\n",
        "                all_houses_data['bathrooms'].append(None)\n",
        "                all_houses_data['sqm'].append(None)\n",
        "                all_houses_data['year_built'].append(None)\n",
        "\n",
        "\n",
        "            house_features = []\n",
        "            house_features_dv = house_soop.find_all(\"div\", class_ = \"col-md-6\")\n",
        "            for house_feature in house_features_dv:\n",
        "                feature_text = house_feature.find(\"h2\")\n",
        "                if feature_text:\n",
        "                    house_features.append(feature_text.get_text(strip=True))\n",
        "            all_houses_data['features'].append(house_features) # Append the list of features\n",
        "\n",
        "\n",
        "            house_city_div = house_soop.find_all(\"div\", class_= \"propertyData_address_info_row__up8MX\")\n",
        "            if len(house_city_div) > 2:\n",
        "                city = house_city_div[1].find_all(\"p\")\n",
        "                all_houses_data['city'].append(city[1].get_text(strip=True) if len(city) > 1 else None)\n",
        "\n",
        "                governorate = house_city_div[2].find_all(\"p\")\n",
        "                all_houses_data['governorate'].append(governorate[1].get_text(strip=True) if len(governorate) > 1 else None)\n",
        "            else:\n",
        "                # Append None if city and governorate details are not found\n",
        "                all_houses_data['city'].append(None)\n",
        "                all_houses_data['governorate'].append(None)\n",
        "\n",
        "\n",
        "            address_div = house_soop.find(\"div\", class_=\"propertyData_address_info_row__up8MX propertyData_address_row__vZiYP\")\n",
        "            if address_div:\n",
        "                address = address_div.find_all(\"p\")\n",
        "                all_houses_data['address'].append(address[1].get_text(strip=True) if len(address) > 1 else None)\n",
        "            else:\n",
        "                # Append None if address is not found\n",
        "                all_houses_data['address'].append(None)\n",
        "\n",
        "            description_div = house_soop.find(\"div\", class_= \"propertyData_property_long_description__mAJPf\")\n",
        "            if description_div:\n",
        "                 # Extract text from each paragraph tag and join them\n",
        "                 paragraph_texts = [p.get_text(strip=True) for p in description_div.find_all(\"p\")]\n",
        "                 full_description = \"\".join(paragraph_texts)\n",
        "                 all_houses_data['description'].append(full_description)\n",
        "            else:\n",
        "                # Append None if description is not found\n",
        "                all_houses_data['description'].append(None)\n",
        "\n",
        "        except Exception as e:\n",
        "            print(f\"Error scraping {house_link}: {e}\")\n",
        "            # Append None for all fields if an error occurs during scraping\n",
        "            for key in all_houses_data:\n",
        "                all_houses_data[key].append(None)\n",
        "\n",
        "\n",
        "    return all_houses_data"
      ],
      "metadata": {
        "id": "XoG1LUxPURwE"
      },
      "id": "XoG1LUxPURwE",
      "execution_count": 56,
      "outputs": []
    },
    {
      "cell_type": "code",
      "source": [
        "collect_house_data(links)"
      ],
      "metadata": {
        "colab": {
          "base_uri": "https://localhost:8080/",
          "height": 287
        },
        "id": "y999RmCJfBzE",
        "outputId": "5c7ea5fe-47b7-4d39-8f02-9461c053a42d"
      },
      "id": "y999RmCJfBzE",
      "execution_count": 58,
      "outputs": [
        {
          "output_type": "error",
          "ename": "KeyboardInterrupt",
          "evalue": "",
          "traceback": [
            "\u001b[0;31m---------------------------------------------------------------------------\u001b[0m",
            "\u001b[0;31mKeyboardInterrupt\u001b[0m                         Traceback (most recent call last)",
            "\u001b[0;32m/tmp/ipython-input-1163943268.py\u001b[0m in \u001b[0;36m<cell line: 0>\u001b[0;34m()\u001b[0m\n\u001b[0;32m----> 1\u001b[0;31m \u001b[0mcollect_house_data\u001b[0m\u001b[0;34m(\u001b[0m\u001b[0mlinks\u001b[0m\u001b[0;34m)\u001b[0m\u001b[0;34m\u001b[0m\u001b[0;34m\u001b[0m\u001b[0m\n\u001b[0m",
            "\u001b[0;32m/tmp/ipython-input-1890038027.py\u001b[0m in \u001b[0;36mcollect_house_data\u001b[0;34m(houses_links)\u001b[0m\n\u001b[1;32m     18\u001b[0m     \u001b[0;32mfor\u001b[0m \u001b[0mhouse_link\u001b[0m \u001b[0;32min\u001b[0m \u001b[0mhouses_links\u001b[0m\u001b[0;34m:\u001b[0m \u001b[0;31m# get the data from each house\u001b[0m\u001b[0;34m\u001b[0m\u001b[0;34m\u001b[0m\u001b[0m\n\u001b[1;32m     19\u001b[0m         \u001b[0;32mtry\u001b[0m\u001b[0;34m:\u001b[0m\u001b[0;34m\u001b[0m\u001b[0;34m\u001b[0m\u001b[0m\n\u001b[0;32m---> 20\u001b[0;31m             \u001b[0mhouse_response\u001b[0m \u001b[0;34m=\u001b[0m \u001b[0mrequests\u001b[0m\u001b[0;34m.\u001b[0m\u001b[0mget\u001b[0m\u001b[0;34m(\u001b[0m\u001b[0mhouse_link\u001b[0m\u001b[0;34m)\u001b[0m \u001b[0;31m# Get the request of the house link\u001b[0m\u001b[0;34m\u001b[0m\u001b[0;34m\u001b[0m\u001b[0m\n\u001b[0m\u001b[1;32m     21\u001b[0m             \u001b[0mhouse_soop\u001b[0m \u001b[0;34m=\u001b[0m \u001b[0mBeautifulSoup\u001b[0m\u001b[0;34m(\u001b[0m\u001b[0mhouse_response\u001b[0m\u001b[0;34m.\u001b[0m\u001b[0mcontent\u001b[0m\u001b[0;34m,\u001b[0m \u001b[0;34m\"html.parser\"\u001b[0m\u001b[0;34m)\u001b[0m \u001b[0;31m# make the house soop\u001b[0m\u001b[0;34m\u001b[0m\u001b[0;34m\u001b[0m\u001b[0m\n\u001b[1;32m     22\u001b[0m \u001b[0;34m\u001b[0m\u001b[0m\n",
            "\u001b[0;32m/usr/local/lib/python3.12/dist-packages/requests/api.py\u001b[0m in \u001b[0;36mget\u001b[0;34m(url, params, **kwargs)\u001b[0m\n\u001b[1;32m     71\u001b[0m     \"\"\"\n\u001b[1;32m     72\u001b[0m \u001b[0;34m\u001b[0m\u001b[0m\n\u001b[0;32m---> 73\u001b[0;31m     \u001b[0;32mreturn\u001b[0m \u001b[0mrequest\u001b[0m\u001b[0;34m(\u001b[0m\u001b[0;34m\"get\"\u001b[0m\u001b[0;34m,\u001b[0m \u001b[0murl\u001b[0m\u001b[0;34m,\u001b[0m \u001b[0mparams\u001b[0m\u001b[0;34m=\u001b[0m\u001b[0mparams\u001b[0m\u001b[0;34m,\u001b[0m \u001b[0;34m**\u001b[0m\u001b[0mkwargs\u001b[0m\u001b[0;34m)\u001b[0m\u001b[0;34m\u001b[0m\u001b[0;34m\u001b[0m\u001b[0m\n\u001b[0m\u001b[1;32m     74\u001b[0m \u001b[0;34m\u001b[0m\u001b[0m\n\u001b[1;32m     75\u001b[0m \u001b[0;34m\u001b[0m\u001b[0m\n",
            "\u001b[0;32m/usr/local/lib/python3.12/dist-packages/requests/api.py\u001b[0m in \u001b[0;36mrequest\u001b[0;34m(method, url, **kwargs)\u001b[0m\n\u001b[1;32m     57\u001b[0m     \u001b[0;31m# cases, and look like a memory leak in others.\u001b[0m\u001b[0;34m\u001b[0m\u001b[0;34m\u001b[0m\u001b[0m\n\u001b[1;32m     58\u001b[0m     \u001b[0;32mwith\u001b[0m \u001b[0msessions\u001b[0m\u001b[0;34m.\u001b[0m\u001b[0mSession\u001b[0m\u001b[0;34m(\u001b[0m\u001b[0;34m)\u001b[0m \u001b[0;32mas\u001b[0m \u001b[0msession\u001b[0m\u001b[0;34m:\u001b[0m\u001b[0;34m\u001b[0m\u001b[0;34m\u001b[0m\u001b[0m\n\u001b[0;32m---> 59\u001b[0;31m         \u001b[0;32mreturn\u001b[0m \u001b[0msession\u001b[0m\u001b[0;34m.\u001b[0m\u001b[0mrequest\u001b[0m\u001b[0;34m(\u001b[0m\u001b[0mmethod\u001b[0m\u001b[0;34m=\u001b[0m\u001b[0mmethod\u001b[0m\u001b[0;34m,\u001b[0m \u001b[0murl\u001b[0m\u001b[0;34m=\u001b[0m\u001b[0murl\u001b[0m\u001b[0;34m,\u001b[0m \u001b[0;34m**\u001b[0m\u001b[0mkwargs\u001b[0m\u001b[0;34m)\u001b[0m\u001b[0;34m\u001b[0m\u001b[0;34m\u001b[0m\u001b[0m\n\u001b[0m\u001b[1;32m     60\u001b[0m \u001b[0;34m\u001b[0m\u001b[0m\n\u001b[1;32m     61\u001b[0m \u001b[0;34m\u001b[0m\u001b[0m\n",
            "\u001b[0;32m/usr/local/lib/python3.12/dist-packages/requests/sessions.py\u001b[0m in \u001b[0;36mrequest\u001b[0;34m(self, method, url, params, data, headers, cookies, files, auth, timeout, allow_redirects, proxies, hooks, stream, verify, cert, json)\u001b[0m\n\u001b[1;32m    587\u001b[0m         }\n\u001b[1;32m    588\u001b[0m         \u001b[0msend_kwargs\u001b[0m\u001b[0;34m.\u001b[0m\u001b[0mupdate\u001b[0m\u001b[0;34m(\u001b[0m\u001b[0msettings\u001b[0m\u001b[0;34m)\u001b[0m\u001b[0;34m\u001b[0m\u001b[0;34m\u001b[0m\u001b[0m\n\u001b[0;32m--> 589\u001b[0;31m         \u001b[0mresp\u001b[0m \u001b[0;34m=\u001b[0m \u001b[0mself\u001b[0m\u001b[0;34m.\u001b[0m\u001b[0msend\u001b[0m\u001b[0;34m(\u001b[0m\u001b[0mprep\u001b[0m\u001b[0;34m,\u001b[0m \u001b[0;34m**\u001b[0m\u001b[0msend_kwargs\u001b[0m\u001b[0;34m)\u001b[0m\u001b[0;34m\u001b[0m\u001b[0;34m\u001b[0m\u001b[0m\n\u001b[0m\u001b[1;32m    590\u001b[0m \u001b[0;34m\u001b[0m\u001b[0m\n\u001b[1;32m    591\u001b[0m         \u001b[0;32mreturn\u001b[0m \u001b[0mresp\u001b[0m\u001b[0;34m\u001b[0m\u001b[0;34m\u001b[0m\u001b[0m\n",
            "\u001b[0;32m/usr/local/lib/python3.12/dist-packages/requests/sessions.py\u001b[0m in \u001b[0;36msend\u001b[0;34m(self, request, **kwargs)\u001b[0m\n\u001b[1;32m    701\u001b[0m \u001b[0;34m\u001b[0m\u001b[0m\n\u001b[1;32m    702\u001b[0m         \u001b[0;31m# Send the request\u001b[0m\u001b[0;34m\u001b[0m\u001b[0;34m\u001b[0m\u001b[0m\n\u001b[0;32m--> 703\u001b[0;31m         \u001b[0mr\u001b[0m \u001b[0;34m=\u001b[0m \u001b[0madapter\u001b[0m\u001b[0;34m.\u001b[0m\u001b[0msend\u001b[0m\u001b[0;34m(\u001b[0m\u001b[0mrequest\u001b[0m\u001b[0;34m,\u001b[0m \u001b[0;34m**\u001b[0m\u001b[0mkwargs\u001b[0m\u001b[0;34m)\u001b[0m\u001b[0;34m\u001b[0m\u001b[0;34m\u001b[0m\u001b[0m\n\u001b[0m\u001b[1;32m    704\u001b[0m \u001b[0;34m\u001b[0m\u001b[0m\n\u001b[1;32m    705\u001b[0m         \u001b[0;31m# Total elapsed time of the request (approximately)\u001b[0m\u001b[0;34m\u001b[0m\u001b[0;34m\u001b[0m\u001b[0m\n",
            "\u001b[0;32m/usr/local/lib/python3.12/dist-packages/requests/adapters.py\u001b[0m in \u001b[0;36msend\u001b[0;34m(self, request, stream, timeout, verify, cert, proxies)\u001b[0m\n\u001b[1;32m    665\u001b[0m \u001b[0;34m\u001b[0m\u001b[0m\n\u001b[1;32m    666\u001b[0m         \u001b[0;32mtry\u001b[0m\u001b[0;34m:\u001b[0m\u001b[0;34m\u001b[0m\u001b[0;34m\u001b[0m\u001b[0m\n\u001b[0;32m--> 667\u001b[0;31m             resp = conn.urlopen(\n\u001b[0m\u001b[1;32m    668\u001b[0m                 \u001b[0mmethod\u001b[0m\u001b[0;34m=\u001b[0m\u001b[0mrequest\u001b[0m\u001b[0;34m.\u001b[0m\u001b[0mmethod\u001b[0m\u001b[0;34m,\u001b[0m\u001b[0;34m\u001b[0m\u001b[0;34m\u001b[0m\u001b[0m\n\u001b[1;32m    669\u001b[0m                 \u001b[0murl\u001b[0m\u001b[0;34m=\u001b[0m\u001b[0murl\u001b[0m\u001b[0;34m,\u001b[0m\u001b[0;34m\u001b[0m\u001b[0;34m\u001b[0m\u001b[0m\n",
            "\u001b[0;32m/usr/local/lib/python3.12/dist-packages/urllib3/connectionpool.py\u001b[0m in \u001b[0;36murlopen\u001b[0;34m(self, method, url, body, headers, retries, redirect, assert_same_host, timeout, pool_timeout, release_conn, chunked, body_pos, preload_content, decode_content, **response_kw)\u001b[0m\n\u001b[1;32m    785\u001b[0m \u001b[0;34m\u001b[0m\u001b[0m\n\u001b[1;32m    786\u001b[0m             \u001b[0;31m# Make the request on the HTTPConnection object\u001b[0m\u001b[0;34m\u001b[0m\u001b[0;34m\u001b[0m\u001b[0m\n\u001b[0;32m--> 787\u001b[0;31m             response = self._make_request(\n\u001b[0m\u001b[1;32m    788\u001b[0m                 \u001b[0mconn\u001b[0m\u001b[0;34m,\u001b[0m\u001b[0;34m\u001b[0m\u001b[0;34m\u001b[0m\u001b[0m\n\u001b[1;32m    789\u001b[0m                 \u001b[0mmethod\u001b[0m\u001b[0;34m,\u001b[0m\u001b[0;34m\u001b[0m\u001b[0;34m\u001b[0m\u001b[0m\n",
            "\u001b[0;32m/usr/local/lib/python3.12/dist-packages/urllib3/connectionpool.py\u001b[0m in \u001b[0;36m_make_request\u001b[0;34m(self, conn, method, url, body, headers, retries, timeout, chunked, response_conn, preload_content, decode_content, enforce_content_length)\u001b[0m\n\u001b[1;32m    462\u001b[0m             \u001b[0;31m# Trigger any extra validation we need to do.\u001b[0m\u001b[0;34m\u001b[0m\u001b[0;34m\u001b[0m\u001b[0m\n\u001b[1;32m    463\u001b[0m             \u001b[0;32mtry\u001b[0m\u001b[0;34m:\u001b[0m\u001b[0;34m\u001b[0m\u001b[0;34m\u001b[0m\u001b[0m\n\u001b[0;32m--> 464\u001b[0;31m                 \u001b[0mself\u001b[0m\u001b[0;34m.\u001b[0m\u001b[0m_validate_conn\u001b[0m\u001b[0;34m(\u001b[0m\u001b[0mconn\u001b[0m\u001b[0;34m)\u001b[0m\u001b[0;34m\u001b[0m\u001b[0;34m\u001b[0m\u001b[0m\n\u001b[0m\u001b[1;32m    465\u001b[0m             \u001b[0;32mexcept\u001b[0m \u001b[0;34m(\u001b[0m\u001b[0mSocketTimeout\u001b[0m\u001b[0;34m,\u001b[0m \u001b[0mBaseSSLError\u001b[0m\u001b[0;34m)\u001b[0m \u001b[0;32mas\u001b[0m \u001b[0me\u001b[0m\u001b[0;34m:\u001b[0m\u001b[0;34m\u001b[0m\u001b[0;34m\u001b[0m\u001b[0m\n\u001b[1;32m    466\u001b[0m                 \u001b[0mself\u001b[0m\u001b[0;34m.\u001b[0m\u001b[0m_raise_timeout\u001b[0m\u001b[0;34m(\u001b[0m\u001b[0merr\u001b[0m\u001b[0;34m=\u001b[0m\u001b[0me\u001b[0m\u001b[0;34m,\u001b[0m \u001b[0murl\u001b[0m\u001b[0;34m=\u001b[0m\u001b[0murl\u001b[0m\u001b[0;34m,\u001b[0m \u001b[0mtimeout_value\u001b[0m\u001b[0;34m=\u001b[0m\u001b[0mconn\u001b[0m\u001b[0;34m.\u001b[0m\u001b[0mtimeout\u001b[0m\u001b[0;34m)\u001b[0m\u001b[0;34m\u001b[0m\u001b[0;34m\u001b[0m\u001b[0m\n",
            "\u001b[0;32m/usr/local/lib/python3.12/dist-packages/urllib3/connectionpool.py\u001b[0m in \u001b[0;36m_validate_conn\u001b[0;34m(self, conn)\u001b[0m\n\u001b[1;32m   1091\u001b[0m         \u001b[0;31m# Force connect early to allow us to validate the connection.\u001b[0m\u001b[0;34m\u001b[0m\u001b[0;34m\u001b[0m\u001b[0m\n\u001b[1;32m   1092\u001b[0m         \u001b[0;32mif\u001b[0m \u001b[0mconn\u001b[0m\u001b[0;34m.\u001b[0m\u001b[0mis_closed\u001b[0m\u001b[0;34m:\u001b[0m\u001b[0;34m\u001b[0m\u001b[0;34m\u001b[0m\u001b[0m\n\u001b[0;32m-> 1093\u001b[0;31m             \u001b[0mconn\u001b[0m\u001b[0;34m.\u001b[0m\u001b[0mconnect\u001b[0m\u001b[0;34m(\u001b[0m\u001b[0;34m)\u001b[0m\u001b[0;34m\u001b[0m\u001b[0;34m\u001b[0m\u001b[0m\n\u001b[0m\u001b[1;32m   1094\u001b[0m \u001b[0;34m\u001b[0m\u001b[0m\n\u001b[1;32m   1095\u001b[0m         \u001b[0;31m# TODO revise this, see https://github.com/urllib3/urllib3/issues/2791\u001b[0m\u001b[0;34m\u001b[0m\u001b[0;34m\u001b[0m\u001b[0m\n",
            "\u001b[0;32m/usr/local/lib/python3.12/dist-packages/urllib3/connection.py\u001b[0m in \u001b[0;36mconnect\u001b[0;34m(self)\u001b[0m\n\u001b[1;32m    788\u001b[0m             \u001b[0mserver_hostname_rm_dot\u001b[0m \u001b[0;34m=\u001b[0m \u001b[0mserver_hostname\u001b[0m\u001b[0;34m.\u001b[0m\u001b[0mrstrip\u001b[0m\u001b[0;34m(\u001b[0m\u001b[0;34m\".\"\u001b[0m\u001b[0;34m)\u001b[0m\u001b[0;34m\u001b[0m\u001b[0;34m\u001b[0m\u001b[0m\n\u001b[1;32m    789\u001b[0m \u001b[0;34m\u001b[0m\u001b[0m\n\u001b[0;32m--> 790\u001b[0;31m             sock_and_verified = _ssl_wrap_socket_and_match_hostname(\n\u001b[0m\u001b[1;32m    791\u001b[0m                 \u001b[0msock\u001b[0m\u001b[0;34m=\u001b[0m\u001b[0msock\u001b[0m\u001b[0;34m,\u001b[0m\u001b[0;34m\u001b[0m\u001b[0;34m\u001b[0m\u001b[0m\n\u001b[1;32m    792\u001b[0m                 \u001b[0mcert_reqs\u001b[0m\u001b[0;34m=\u001b[0m\u001b[0mself\u001b[0m\u001b[0;34m.\u001b[0m\u001b[0mcert_reqs\u001b[0m\u001b[0;34m,\u001b[0m\u001b[0;34m\u001b[0m\u001b[0;34m\u001b[0m\u001b[0m\n",
            "\u001b[0;32m/usr/local/lib/python3.12/dist-packages/urllib3/connection.py\u001b[0m in \u001b[0;36m_ssl_wrap_socket_and_match_hostname\u001b[0;34m(sock, cert_reqs, ssl_version, ssl_minimum_version, ssl_maximum_version, cert_file, key_file, key_password, ca_certs, ca_cert_dir, ca_cert_data, assert_hostname, assert_fingerprint, server_hostname, ssl_context, tls_in_tls)\u001b[0m\n\u001b[1;32m    967\u001b[0m             \u001b[0mserver_hostname\u001b[0m \u001b[0;34m=\u001b[0m \u001b[0mnormalized\u001b[0m\u001b[0;34m\u001b[0m\u001b[0;34m\u001b[0m\u001b[0m\n\u001b[1;32m    968\u001b[0m \u001b[0;34m\u001b[0m\u001b[0m\n\u001b[0;32m--> 969\u001b[0;31m     ssl_sock = ssl_wrap_socket(\n\u001b[0m\u001b[1;32m    970\u001b[0m         \u001b[0msock\u001b[0m\u001b[0;34m=\u001b[0m\u001b[0msock\u001b[0m\u001b[0;34m,\u001b[0m\u001b[0;34m\u001b[0m\u001b[0;34m\u001b[0m\u001b[0m\n\u001b[1;32m    971\u001b[0m         \u001b[0mkeyfile\u001b[0m\u001b[0;34m=\u001b[0m\u001b[0mkey_file\u001b[0m\u001b[0;34m,\u001b[0m\u001b[0;34m\u001b[0m\u001b[0;34m\u001b[0m\u001b[0m\n",
            "\u001b[0;32m/usr/local/lib/python3.12/dist-packages/urllib3/util/ssl_.py\u001b[0m in \u001b[0;36mssl_wrap_socket\u001b[0;34m(sock, keyfile, certfile, cert_reqs, ca_certs, server_hostname, ssl_version, ciphers, ssl_context, ca_cert_dir, key_password, ca_cert_data, tls_in_tls)\u001b[0m\n\u001b[1;32m    478\u001b[0m     \u001b[0mcontext\u001b[0m\u001b[0;34m.\u001b[0m\u001b[0mset_alpn_protocols\u001b[0m\u001b[0;34m(\u001b[0m\u001b[0mALPN_PROTOCOLS\u001b[0m\u001b[0;34m)\u001b[0m\u001b[0;34m\u001b[0m\u001b[0;34m\u001b[0m\u001b[0m\n\u001b[1;32m    479\u001b[0m \u001b[0;34m\u001b[0m\u001b[0m\n\u001b[0;32m--> 480\u001b[0;31m     \u001b[0mssl_sock\u001b[0m \u001b[0;34m=\u001b[0m \u001b[0m_ssl_wrap_socket_impl\u001b[0m\u001b[0;34m(\u001b[0m\u001b[0msock\u001b[0m\u001b[0;34m,\u001b[0m \u001b[0mcontext\u001b[0m\u001b[0;34m,\u001b[0m \u001b[0mtls_in_tls\u001b[0m\u001b[0;34m,\u001b[0m \u001b[0mserver_hostname\u001b[0m\u001b[0;34m)\u001b[0m\u001b[0;34m\u001b[0m\u001b[0;34m\u001b[0m\u001b[0m\n\u001b[0m\u001b[1;32m    481\u001b[0m     \u001b[0;32mreturn\u001b[0m \u001b[0mssl_sock\u001b[0m\u001b[0;34m\u001b[0m\u001b[0;34m\u001b[0m\u001b[0m\n\u001b[1;32m    482\u001b[0m \u001b[0;34m\u001b[0m\u001b[0m\n",
            "\u001b[0;32m/usr/local/lib/python3.12/dist-packages/urllib3/util/ssl_.py\u001b[0m in \u001b[0;36m_ssl_wrap_socket_impl\u001b[0;34m(sock, ssl_context, tls_in_tls, server_hostname)\u001b[0m\n\u001b[1;32m    522\u001b[0m         \u001b[0;32mreturn\u001b[0m \u001b[0mSSLTransport\u001b[0m\u001b[0;34m(\u001b[0m\u001b[0msock\u001b[0m\u001b[0;34m,\u001b[0m \u001b[0mssl_context\u001b[0m\u001b[0;34m,\u001b[0m \u001b[0mserver_hostname\u001b[0m\u001b[0;34m)\u001b[0m\u001b[0;34m\u001b[0m\u001b[0;34m\u001b[0m\u001b[0m\n\u001b[1;32m    523\u001b[0m \u001b[0;34m\u001b[0m\u001b[0m\n\u001b[0;32m--> 524\u001b[0;31m     \u001b[0;32mreturn\u001b[0m \u001b[0mssl_context\u001b[0m\u001b[0;34m.\u001b[0m\u001b[0mwrap_socket\u001b[0m\u001b[0;34m(\u001b[0m\u001b[0msock\u001b[0m\u001b[0;34m,\u001b[0m \u001b[0mserver_hostname\u001b[0m\u001b[0;34m=\u001b[0m\u001b[0mserver_hostname\u001b[0m\u001b[0;34m)\u001b[0m\u001b[0;34m\u001b[0m\u001b[0;34m\u001b[0m\u001b[0m\n\u001b[0m",
            "\u001b[0;32m/usr/lib/python3.12/ssl.py\u001b[0m in \u001b[0;36mwrap_socket\u001b[0;34m(self, sock, server_side, do_handshake_on_connect, suppress_ragged_eofs, server_hostname, session)\u001b[0m\n\u001b[1;32m    453\u001b[0m         \u001b[0;31m# SSLSocket class handles server_hostname encoding before it calls\u001b[0m\u001b[0;34m\u001b[0m\u001b[0;34m\u001b[0m\u001b[0m\n\u001b[1;32m    454\u001b[0m         \u001b[0;31m# ctx._wrap_socket()\u001b[0m\u001b[0;34m\u001b[0m\u001b[0;34m\u001b[0m\u001b[0m\n\u001b[0;32m--> 455\u001b[0;31m         return self.sslsocket_class._create(\n\u001b[0m\u001b[1;32m    456\u001b[0m             \u001b[0msock\u001b[0m\u001b[0;34m=\u001b[0m\u001b[0msock\u001b[0m\u001b[0;34m,\u001b[0m\u001b[0;34m\u001b[0m\u001b[0;34m\u001b[0m\u001b[0m\n\u001b[1;32m    457\u001b[0m             \u001b[0mserver_side\u001b[0m\u001b[0;34m=\u001b[0m\u001b[0mserver_side\u001b[0m\u001b[0;34m,\u001b[0m\u001b[0;34m\u001b[0m\u001b[0;34m\u001b[0m\u001b[0m\n",
            "\u001b[0;32m/usr/lib/python3.12/ssl.py\u001b[0m in \u001b[0;36m_create\u001b[0;34m(cls, sock, server_side, do_handshake_on_connect, suppress_ragged_eofs, server_hostname, context, session)\u001b[0m\n\u001b[1;32m   1039\u001b[0m                         \u001b[0;31m# non-blocking\u001b[0m\u001b[0;34m\u001b[0m\u001b[0;34m\u001b[0m\u001b[0m\n\u001b[1;32m   1040\u001b[0m                         \u001b[0;32mraise\u001b[0m \u001b[0mValueError\u001b[0m\u001b[0;34m(\u001b[0m\u001b[0;34m\"do_handshake_on_connect should not be specified for non-blocking sockets\"\u001b[0m\u001b[0;34m)\u001b[0m\u001b[0;34m\u001b[0m\u001b[0;34m\u001b[0m\u001b[0m\n\u001b[0;32m-> 1041\u001b[0;31m                     \u001b[0mself\u001b[0m\u001b[0;34m.\u001b[0m\u001b[0mdo_handshake\u001b[0m\u001b[0;34m(\u001b[0m\u001b[0;34m)\u001b[0m\u001b[0;34m\u001b[0m\u001b[0;34m\u001b[0m\u001b[0m\n\u001b[0m\u001b[1;32m   1042\u001b[0m         \u001b[0;32mexcept\u001b[0m\u001b[0;34m:\u001b[0m\u001b[0;34m\u001b[0m\u001b[0;34m\u001b[0m\u001b[0m\n\u001b[1;32m   1043\u001b[0m             \u001b[0;32mtry\u001b[0m\u001b[0;34m:\u001b[0m\u001b[0;34m\u001b[0m\u001b[0;34m\u001b[0m\u001b[0m\n",
            "\u001b[0;32m/usr/lib/python3.12/ssl.py\u001b[0m in \u001b[0;36mdo_handshake\u001b[0;34m(self, block)\u001b[0m\n\u001b[1;32m   1317\u001b[0m             \u001b[0;32mif\u001b[0m \u001b[0mtimeout\u001b[0m \u001b[0;34m==\u001b[0m \u001b[0;36m0.0\u001b[0m \u001b[0;32mand\u001b[0m \u001b[0mblock\u001b[0m\u001b[0;34m:\u001b[0m\u001b[0;34m\u001b[0m\u001b[0;34m\u001b[0m\u001b[0m\n\u001b[1;32m   1318\u001b[0m                 \u001b[0mself\u001b[0m\u001b[0;34m.\u001b[0m\u001b[0msettimeout\u001b[0m\u001b[0;34m(\u001b[0m\u001b[0;32mNone\u001b[0m\u001b[0;34m)\u001b[0m\u001b[0;34m\u001b[0m\u001b[0;34m\u001b[0m\u001b[0m\n\u001b[0;32m-> 1319\u001b[0;31m             \u001b[0mself\u001b[0m\u001b[0;34m.\u001b[0m\u001b[0m_sslobj\u001b[0m\u001b[0;34m.\u001b[0m\u001b[0mdo_handshake\u001b[0m\u001b[0;34m(\u001b[0m\u001b[0;34m)\u001b[0m\u001b[0;34m\u001b[0m\u001b[0;34m\u001b[0m\u001b[0m\n\u001b[0m\u001b[1;32m   1320\u001b[0m         \u001b[0;32mfinally\u001b[0m\u001b[0;34m:\u001b[0m\u001b[0;34m\u001b[0m\u001b[0;34m\u001b[0m\u001b[0m\n\u001b[1;32m   1321\u001b[0m             \u001b[0mself\u001b[0m\u001b[0;34m.\u001b[0m\u001b[0msettimeout\u001b[0m\u001b[0;34m(\u001b[0m\u001b[0mtimeout\u001b[0m\u001b[0;34m)\u001b[0m\u001b[0;34m\u001b[0m\u001b[0;34m\u001b[0m\u001b[0m\n",
            "\u001b[0;31mKeyboardInterrupt\u001b[0m: "
          ]
        }
      ]
    },
    {
      "cell_type": "code",
      "source": [],
      "metadata": {
        "id": "OdrrObKFfEzk"
      },
      "id": "OdrrObKFfEzk",
      "execution_count": null,
      "outputs": []
    }
  ],
  "metadata": {
    "kernelspec": {
      "display_name": "Python 3",
      "language": "python",
      "name": "python3"
    },
    "language_info": {
      "codemirror_mode": {
        "name": "ipython",
        "version": 3
      },
      "file_extension": ".py",
      "mimetype": "text/x-python",
      "name": "python",
      "nbconvert_exporter": "python",
      "pygments_lexer": "ipython3",
      "version": "3.13.7"
    },
    "colab": {
      "provenance": [],
      "include_colab_link": true
    }
  },
  "nbformat": 4,
  "nbformat_minor": 5
}
