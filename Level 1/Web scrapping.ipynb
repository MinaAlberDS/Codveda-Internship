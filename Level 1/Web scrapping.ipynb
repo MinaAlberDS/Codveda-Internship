{
 "cells": [
  {
   "cell_type": "code",
   "execution_count": 75,
   "id": "b8ac384d",
   "metadata": {},
   "outputs": [],
   "source": [
    "import requests\n",
    "from bs4 import BeautifulSoup\n",
    "import time\n",
    "import numpy as np\n",
    "\n",
    "def houses_links(pages, verbose):\n",
    "    sold_url = r\"https://realestate.gov.eg/properties?page={}\"\n",
    "\n",
    "    links = []\n",
    "    elapseds = []\n",
    "    for page in range(1,pages+1):\n",
    "        start_time = time.perf_counter()\n",
    "        page = sold_url.format(page)\n",
    "        response = requests.get(page)\n",
    "\n",
    "        soop = BeautifulSoup(response.content, \"html.parser\")\n",
    "        houses = soop.find_all(\"div\", class_=\"col-md-4\")[3:]\n",
    "\n",
    "        for house in houses:\n",
    "            link = r\"https://realestate.gov.eg\" + house.find(\"a\")[\"href\"]\n",
    "            links.append(link)\n",
    "        end_time = time.perf_counter()\n",
    "        elapsed = end_time - start_time\n",
    "        elapseds.append(elapsed)\n",
    "        if verbose:\n",
    "            print(f\"Page: {page} links have been appended in {elapsed:.4f}s\")\n",
    "    print(f\"Avg. Elapsed process time: {np.mean(elapseds):.4f}\")\n",
    "    return links"
   ]
  },
  {
   "cell_type": "code",
   "execution_count": 77,
   "id": "8d463b0f",
   "metadata": {},
   "outputs": [
    {
     "name": "stdout",
     "output_type": "stream",
     "text": [
      "Page: https://realestate.gov.eg/properties?page=1 links have been appended in 3.7518s\n",
      "Page: https://realestate.gov.eg/properties?page=2 links have been appended in 3.7854s\n",
      "Page: https://realestate.gov.eg/properties?page=3 links have been appended in 3.5907s\n",
      "Page: https://realestate.gov.eg/properties?page=4 links have been appended in 3.8138s\n",
      "Page: https://realestate.gov.eg/properties?page=5 links have been appended in 3.7405s\n",
      "Page: https://realestate.gov.eg/properties?page=6 links have been appended in 3.2169s\n",
      "Page: https://realestate.gov.eg/properties?page=7 links have been appended in 3.4495s\n",
      "Page: https://realestate.gov.eg/properties?page=8 links have been appended in 4.0676s\n",
      "Page: https://realestate.gov.eg/properties?page=9 links have been appended in 3.5940s\n",
      "Page: https://realestate.gov.eg/properties?page=10 links have been appended in 3.7803s\n",
      "Page: https://realestate.gov.eg/properties?page=11 links have been appended in 3.7802s\n",
      "Page: https://realestate.gov.eg/properties?page=12 links have been appended in 3.7435s\n",
      "Page: https://realestate.gov.eg/properties?page=13 links have been appended in 3.7275s\n",
      "Page: https://realestate.gov.eg/properties?page=14 links have been appended in 3.2547s\n",
      "Page: https://realestate.gov.eg/properties?page=15 links have been appended in 3.8090s\n",
      "Page: https://realestate.gov.eg/properties?page=16 links have been appended in 3.5065s\n",
      "Page: https://realestate.gov.eg/properties?page=17 links have been appended in 3.9023s\n",
      "Page: https://realestate.gov.eg/properties?page=18 links have been appended in 3.6044s\n",
      "Page: https://realestate.gov.eg/properties?page=19 links have been appended in 3.5693s\n",
      "Page: https://realestate.gov.eg/properties?page=20 links have been appended in 3.5293s\n",
      "Page: https://realestate.gov.eg/properties?page=21 links have been appended in 3.4705s\n",
      "Page: https://realestate.gov.eg/properties?page=22 links have been appended in 3.1473s\n",
      "Page: https://realestate.gov.eg/properties?page=23 links have been appended in 3.3842s\n",
      "Page: https://realestate.gov.eg/properties?page=24 links have been appended in 4.0200s\n",
      "Page: https://realestate.gov.eg/properties?page=25 links have been appended in 3.5479s\n",
      "Page: https://realestate.gov.eg/properties?page=26 links have been appended in 3.6525s\n",
      "Page: https://realestate.gov.eg/properties?page=27 links have been appended in 4.1698s\n",
      "Page: https://realestate.gov.eg/properties?page=28 links have been appended in 4.0215s\n",
      "Page: https://realestate.gov.eg/properties?page=29 links have been appended in 3.7921s\n",
      "Page: https://realestate.gov.eg/properties?page=30 links have been appended in 3.8050s\n",
      "Page: https://realestate.gov.eg/properties?page=31 links have been appended in 3.7857s\n",
      "Page: https://realestate.gov.eg/properties?page=32 links have been appended in 2.5883s\n",
      "Page: https://realestate.gov.eg/properties?page=33 links have been appended in 2.9131s\n",
      "Page: https://realestate.gov.eg/properties?page=34 links have been appended in 3.1412s\n",
      "Page: https://realestate.gov.eg/properties?page=35 links have been appended in 3.8397s\n",
      "Page: https://realestate.gov.eg/properties?page=36 links have been appended in 3.4677s\n",
      "Page: https://realestate.gov.eg/properties?page=37 links have been appended in 2.6941s\n",
      "Page: https://realestate.gov.eg/properties?page=38 links have been appended in 2.3310s\n",
      "Page: https://realestate.gov.eg/properties?page=39 links have been appended in 2.6176s\n",
      "Page: https://realestate.gov.eg/properties?page=40 links have been appended in 2.2751s\n",
      "Page: https://realestate.gov.eg/properties?page=41 links have been appended in 2.1324s\n",
      "Page: https://realestate.gov.eg/properties?page=42 links have been appended in 2.3155s\n",
      "Page: https://realestate.gov.eg/properties?page=43 links have been appended in 2.2063s\n",
      "Page: https://realestate.gov.eg/properties?page=44 links have been appended in 2.2529s\n",
      "Page: https://realestate.gov.eg/properties?page=45 links have been appended in 2.1601s\n",
      "Page: https://realestate.gov.eg/properties?page=46 links have been appended in 2.2987s\n",
      "Page: https://realestate.gov.eg/properties?page=47 links have been appended in 2.1909s\n",
      "Page: https://realestate.gov.eg/properties?page=48 links have been appended in 2.1753s\n",
      "Page: https://realestate.gov.eg/properties?page=49 links have been appended in 2.2289s\n",
      "Page: https://realestate.gov.eg/properties?page=50 links have been appended in 3.3816s\n",
      "Page: https://realestate.gov.eg/properties?page=51 links have been appended in 2.2815s\n",
      "Page: https://realestate.gov.eg/properties?page=52 links have been appended in 2.3644s\n",
      "Page: https://realestate.gov.eg/properties?page=53 links have been appended in 2.3267s\n",
      "Page: https://realestate.gov.eg/properties?page=54 links have been appended in 2.1939s\n",
      "Page: https://realestate.gov.eg/properties?page=55 links have been appended in 2.1943s\n",
      "Page: https://realestate.gov.eg/properties?page=56 links have been appended in 2.2868s\n",
      "Avg. Elapsed process time: 3.1584\n"
     ]
    }
   ],
   "source": [
    "links = houses_links(56, True)"
   ]
  },
  {
   "cell_type": "code",
   "execution_count": 78,
   "id": "c9882225",
   "metadata": {},
   "outputs": [
    {
     "data": {
      "text/plain": [
       "504"
      ]
     },
     "execution_count": 78,
     "metadata": {},
     "output_type": "execute_result"
    }
   ],
   "source": [
    "len(links)"
   ]
  },
  {
   "cell_type": "code",
   "execution_count": 80,
   "id": "aebbf1cb",
   "metadata": {},
   "outputs": [],
   "source": [
    "import json\n",
    "\n",
    "with open(\"Links.json\", \"w\") as file:\n",
    "    json.dump(links, file, indent =4 )"
   ]
  },
  {
   "cell_type": "code",
   "execution_count": null,
   "id": "4e7e5558",
   "metadata": {},
   "outputs": [],
   "source": []
  }
 ],
 "metadata": {
  "kernelspec": {
   "display_name": "Python 3",
   "language": "python",
   "name": "python3"
  },
  "language_info": {
   "codemirror_mode": {
    "name": "ipython",
    "version": 3
   },
   "file_extension": ".py",
   "mimetype": "text/x-python",
   "name": "python",
   "nbconvert_exporter": "python",
   "pygments_lexer": "ipython3",
   "version": "3.13.7"
  }
 },
 "nbformat": 4,
 "nbformat_minor": 5
}
